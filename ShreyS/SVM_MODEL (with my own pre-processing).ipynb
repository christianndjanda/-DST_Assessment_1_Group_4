{
 "cells": [
  {
   "cell_type": "markdown",
   "id": "04657a80-c951-47f6-b3ed-9e2294ddd060",
   "metadata": {},
   "source": [
    "## Important\n",
    "This notebook consists of the SVM model which I have tried to train on the same my_full_data.csv file, but only difference is I did some extra pre-processing of my own by one hot coding some of the data which was not required to do so, but I thought it made sense. Obviously this notebook does not conist of all the results due to the vast number of parameters that I ended up with, which is 89 and a result the computation time for the GridSearchCV was extremely long and tiresome, where at first I have considered __scoring = accuracy__ and then __scoring = roc_auc__ for GridSearchCV. The simmilar technique was used in the final model as well. Hence, this notebook was not completed but I am still providing it as a comparison to the final cut of the models I have trained which is __SVM_MODEL.ipynb__."
   ]
  },
  {
   "cell_type": "code",
   "execution_count": 1,
   "id": "22ef48cf-182d-45a1-96c0-65ccaeaf3f4b",
   "metadata": {},
   "outputs": [],
   "source": [
    "from sklearn.preprocessing import LabelEncoder,StandardScaler\n",
    "import numpy as np\n",
    "import pandas as pd\n",
    "from sklearn.multioutput import MultiOutputClassifier\n",
    "from sklearn.model_selection import cross_val_score, GridSearchCV\n",
    "from sklearn.svm import SVC\n",
    "from sklearn.metrics import classification_report, accuracy_score, roc_curve\n",
    "from sklearn.ensemble import BaggingClassifier\n",
    "from sklearn import metrics\n",
    "import matplotlib.pyplot as plt\n",
    "from sklearn.pipeline import Pipeline\n",
    "from sklearn.pipeline import make_pipeline"
   ]
  },
  {
   "cell_type": "code",
   "execution_count": 2,
   "id": "a3aed146-10b2-46bf-9181-5cfb617f9ae7",
   "metadata": {},
   "outputs": [],
   "source": [
    "data=pd.read_csv('my_full_data.csv')"
   ]
  },
  {
   "cell_type": "code",
   "execution_count": 3,
   "id": "1dc0ead9-11bf-4adf-a2a4-473ccfe771bc",
   "metadata": {},
   "outputs": [],
   "source": [
    "data=data.drop('id',axis=1)"
   ]
  },
  {
   "cell_type": "code",
   "execution_count": 4,
   "id": "465c8c8f-e771-45d8-befa-08e32d66654a",
   "metadata": {},
   "outputs": [],
   "source": [
    "data['application_type']=data['application_type'].replace({'Individual':0, 'Joint App':1})"
   ]
  },
  {
   "cell_type": "code",
   "execution_count": 5,
   "id": "a28126d4-7c0d-44d7-8c8c-128730e9d17c",
   "metadata": {},
   "outputs": [
    {
     "data": {
      "text/html": [
       "<div>\n",
       "<style scoped>\n",
       "    .dataframe tbody tr th:only-of-type {\n",
       "        vertical-align: middle;\n",
       "    }\n",
       "\n",
       "    .dataframe tbody tr th {\n",
       "        vertical-align: top;\n",
       "    }\n",
       "\n",
       "    .dataframe thead th {\n",
       "        text-align: right;\n",
       "    }\n",
       "</style>\n",
       "<table border=\"1\" class=\"dataframe\">\n",
       "  <thead>\n",
       "    <tr style=\"text-align: right;\">\n",
       "      <th></th>\n",
       "      <th>Unnamed: 0</th>\n",
       "      <th>loan_amnt</th>\n",
       "      <th>term</th>\n",
       "      <th>int_rate</th>\n",
       "      <th>installment</th>\n",
       "      <th>grade</th>\n",
       "      <th>emp_length</th>\n",
       "      <th>home_ownership</th>\n",
       "      <th>annual_inc</th>\n",
       "      <th>verification_status</th>\n",
       "      <th>...</th>\n",
       "      <th>purpose</th>\n",
       "      <th>addr_state</th>\n",
       "      <th>dti</th>\n",
       "      <th>open_acc</th>\n",
       "      <th>total_acc</th>\n",
       "      <th>initial_list_status</th>\n",
       "      <th>last_fico_range_high</th>\n",
       "      <th>last_fico_range_low</th>\n",
       "      <th>application_type</th>\n",
       "      <th>tax_liens</th>\n",
       "    </tr>\n",
       "  </thead>\n",
       "  <tbody>\n",
       "    <tr>\n",
       "      <th>0</th>\n",
       "      <td>0</td>\n",
       "      <td>2500.0</td>\n",
       "      <td>0</td>\n",
       "      <td>17.27</td>\n",
       "      <td>89.47</td>\n",
       "      <td>3</td>\n",
       "      <td>1</td>\n",
       "      <td>1</td>\n",
       "      <td>50000.0</td>\n",
       "      <td>2</td>\n",
       "      <td>...</td>\n",
       "      <td>9</td>\n",
       "      <td>9</td>\n",
       "      <td>17.60</td>\n",
       "      <td>7.0</td>\n",
       "      <td>22.0</td>\n",
       "      <td>1</td>\n",
       "      <td>669.0</td>\n",
       "      <td>665.0</td>\n",
       "      <td>0</td>\n",
       "      <td>0.0</td>\n",
       "    </tr>\n",
       "    <tr>\n",
       "      <th>1</th>\n",
       "      <td>1</td>\n",
       "      <td>7200.0</td>\n",
       "      <td>0</td>\n",
       "      <td>17.27</td>\n",
       "      <td>257.67</td>\n",
       "      <td>3</td>\n",
       "      <td>9</td>\n",
       "      <td>4</td>\n",
       "      <td>20000.0</td>\n",
       "      <td>2</td>\n",
       "      <td>...</td>\n",
       "      <td>2</td>\n",
       "      <td>18</td>\n",
       "      <td>13.21</td>\n",
       "      <td>8.0</td>\n",
       "      <td>17.0</td>\n",
       "      <td>1</td>\n",
       "      <td>549.0</td>\n",
       "      <td>545.0</td>\n",
       "      <td>0</td>\n",
       "      <td>0.0</td>\n",
       "    </tr>\n",
       "    <tr>\n",
       "      <th>2</th>\n",
       "      <td>2</td>\n",
       "      <td>16000.0</td>\n",
       "      <td>0</td>\n",
       "      <td>10.78</td>\n",
       "      <td>522.16</td>\n",
       "      <td>1</td>\n",
       "      <td>5</td>\n",
       "      <td>5</td>\n",
       "      <td>63000.0</td>\n",
       "      <td>0</td>\n",
       "      <td>...</td>\n",
       "      <td>2</td>\n",
       "      <td>33</td>\n",
       "      <td>35.19</td>\n",
       "      <td>12.0</td>\n",
       "      <td>22.0</td>\n",
       "      <td>1</td>\n",
       "      <td>594.0</td>\n",
       "      <td>590.0</td>\n",
       "      <td>0</td>\n",
       "      <td>0.0</td>\n",
       "    </tr>\n",
       "    <tr>\n",
       "      <th>3</th>\n",
       "      <td>3</td>\n",
       "      <td>16000.0</td>\n",
       "      <td>0</td>\n",
       "      <td>5.32</td>\n",
       "      <td>481.84</td>\n",
       "      <td>0</td>\n",
       "      <td>8</td>\n",
       "      <td>1</td>\n",
       "      <td>96000.0</td>\n",
       "      <td>0</td>\n",
       "      <td>...</td>\n",
       "      <td>2</td>\n",
       "      <td>22</td>\n",
       "      <td>14.45</td>\n",
       "      <td>23.0</td>\n",
       "      <td>38.0</td>\n",
       "      <td>1</td>\n",
       "      <td>744.0</td>\n",
       "      <td>740.0</td>\n",
       "      <td>0</td>\n",
       "      <td>0.0</td>\n",
       "    </tr>\n",
       "    <tr>\n",
       "      <th>4</th>\n",
       "      <td>4</td>\n",
       "      <td>13000.0</td>\n",
       "      <td>1</td>\n",
       "      <td>16.59</td>\n",
       "      <td>320.23</td>\n",
       "      <td>3</td>\n",
       "      <td>10</td>\n",
       "      <td>5</td>\n",
       "      <td>40000.0</td>\n",
       "      <td>2</td>\n",
       "      <td>...</td>\n",
       "      <td>2</td>\n",
       "      <td>11</td>\n",
       "      <td>16.74</td>\n",
       "      <td>6.0</td>\n",
       "      <td>17.0</td>\n",
       "      <td>1</td>\n",
       "      <td>569.0</td>\n",
       "      <td>565.0</td>\n",
       "      <td>0</td>\n",
       "      <td>0.0</td>\n",
       "    </tr>\n",
       "    <tr>\n",
       "      <th>...</th>\n",
       "      <td>...</td>\n",
       "      <td>...</td>\n",
       "      <td>...</td>\n",
       "      <td>...</td>\n",
       "      <td>...</td>\n",
       "      <td>...</td>\n",
       "      <td>...</td>\n",
       "      <td>...</td>\n",
       "      <td>...</td>\n",
       "      <td>...</td>\n",
       "      <td>...</td>\n",
       "      <td>...</td>\n",
       "      <td>...</td>\n",
       "      <td>...</td>\n",
       "      <td>...</td>\n",
       "      <td>...</td>\n",
       "      <td>...</td>\n",
       "      <td>...</td>\n",
       "      <td>...</td>\n",
       "      <td>...</td>\n",
       "      <td>...</td>\n",
       "    </tr>\n",
       "    <tr>\n",
       "      <th>26113</th>\n",
       "      <td>26113</td>\n",
       "      <td>12000.0</td>\n",
       "      <td>0</td>\n",
       "      <td>13.99</td>\n",
       "      <td>410.08</td>\n",
       "      <td>2</td>\n",
       "      <td>0</td>\n",
       "      <td>5</td>\n",
       "      <td>47000.0</td>\n",
       "      <td>1</td>\n",
       "      <td>...</td>\n",
       "      <td>1</td>\n",
       "      <td>25</td>\n",
       "      <td>31.79</td>\n",
       "      <td>13.0</td>\n",
       "      <td>28.0</td>\n",
       "      <td>0</td>\n",
       "      <td>754.0</td>\n",
       "      <td>750.0</td>\n",
       "      <td>0</td>\n",
       "      <td>0.0</td>\n",
       "    </tr>\n",
       "    <tr>\n",
       "      <th>26114</th>\n",
       "      <td>26114</td>\n",
       "      <td>25000.0</td>\n",
       "      <td>1</td>\n",
       "      <td>25.69</td>\n",
       "      <td>743.94</td>\n",
       "      <td>5</td>\n",
       "      <td>6</td>\n",
       "      <td>1</td>\n",
       "      <td>70000.0</td>\n",
       "      <td>2</td>\n",
       "      <td>...</td>\n",
       "      <td>9</td>\n",
       "      <td>5</td>\n",
       "      <td>15.10</td>\n",
       "      <td>9.0</td>\n",
       "      <td>19.0</td>\n",
       "      <td>0</td>\n",
       "      <td>499.0</td>\n",
       "      <td>0.0</td>\n",
       "      <td>0</td>\n",
       "      <td>0.0</td>\n",
       "    </tr>\n",
       "    <tr>\n",
       "      <th>26115</th>\n",
       "      <td>26115</td>\n",
       "      <td>16000.0</td>\n",
       "      <td>0</td>\n",
       "      <td>12.79</td>\n",
       "      <td>537.49</td>\n",
       "      <td>2</td>\n",
       "      <td>1</td>\n",
       "      <td>4</td>\n",
       "      <td>48000.0</td>\n",
       "      <td>0</td>\n",
       "      <td>...</td>\n",
       "      <td>2</td>\n",
       "      <td>4</td>\n",
       "      <td>33.60</td>\n",
       "      <td>11.0</td>\n",
       "      <td>17.0</td>\n",
       "      <td>0</td>\n",
       "      <td>699.0</td>\n",
       "      <td>695.0</td>\n",
       "      <td>0</td>\n",
       "      <td>0.0</td>\n",
       "    </tr>\n",
       "    <tr>\n",
       "      <th>26116</th>\n",
       "      <td>26116</td>\n",
       "      <td>35000.0</td>\n",
       "      <td>1</td>\n",
       "      <td>15.59</td>\n",
       "      <td>843.53</td>\n",
       "      <td>2</td>\n",
       "      <td>1</td>\n",
       "      <td>1</td>\n",
       "      <td>180000.0</td>\n",
       "      <td>2</td>\n",
       "      <td>...</td>\n",
       "      <td>2</td>\n",
       "      <td>9</td>\n",
       "      <td>13.09</td>\n",
       "      <td>17.0</td>\n",
       "      <td>31.0</td>\n",
       "      <td>0</td>\n",
       "      <td>714.0</td>\n",
       "      <td>710.0</td>\n",
       "      <td>0</td>\n",
       "      <td>0.0</td>\n",
       "    </tr>\n",
       "    <tr>\n",
       "      <th>26117</th>\n",
       "      <td>26117</td>\n",
       "      <td>5000.0</td>\n",
       "      <td>0</td>\n",
       "      <td>21.49</td>\n",
       "      <td>189.64</td>\n",
       "      <td>3</td>\n",
       "      <td>2</td>\n",
       "      <td>5</td>\n",
       "      <td>43000.0</td>\n",
       "      <td>2</td>\n",
       "      <td>...</td>\n",
       "      <td>8</td>\n",
       "      <td>33</td>\n",
       "      <td>1.40</td>\n",
       "      <td>4.0</td>\n",
       "      <td>19.0</td>\n",
       "      <td>0</td>\n",
       "      <td>759.0</td>\n",
       "      <td>755.0</td>\n",
       "      <td>0</td>\n",
       "      <td>0.0</td>\n",
       "    </tr>\n",
       "  </tbody>\n",
       "</table>\n",
       "<p>26118 rows × 21 columns</p>\n",
       "</div>"
      ],
      "text/plain": [
       "       Unnamed: 0  loan_amnt  term  int_rate  installment  grade  emp_length  \\\n",
       "0               0     2500.0     0     17.27        89.47      3           1   \n",
       "1               1     7200.0     0     17.27       257.67      3           9   \n",
       "2               2    16000.0     0     10.78       522.16      1           5   \n",
       "3               3    16000.0     0      5.32       481.84      0           8   \n",
       "4               4    13000.0     1     16.59       320.23      3          10   \n",
       "...           ...        ...   ...       ...          ...    ...         ...   \n",
       "26113       26113    12000.0     0     13.99       410.08      2           0   \n",
       "26114       26114    25000.0     1     25.69       743.94      5           6   \n",
       "26115       26115    16000.0     0     12.79       537.49      2           1   \n",
       "26116       26116    35000.0     1     15.59       843.53      2           1   \n",
       "26117       26117     5000.0     0     21.49       189.64      3           2   \n",
       "\n",
       "       home_ownership  annual_inc  verification_status  ...  purpose  \\\n",
       "0                   1     50000.0                    2  ...        9   \n",
       "1                   4     20000.0                    2  ...        2   \n",
       "2                   5     63000.0                    0  ...        2   \n",
       "3                   1     96000.0                    0  ...        2   \n",
       "4                   5     40000.0                    2  ...        2   \n",
       "...               ...         ...                  ...  ...      ...   \n",
       "26113               5     47000.0                    1  ...        1   \n",
       "26114               1     70000.0                    2  ...        9   \n",
       "26115               4     48000.0                    0  ...        2   \n",
       "26116               1    180000.0                    2  ...        2   \n",
       "26117               5     43000.0                    2  ...        8   \n",
       "\n",
       "       addr_state    dti  open_acc  total_acc  initial_list_status  \\\n",
       "0               9  17.60       7.0       22.0                    1   \n",
       "1              18  13.21       8.0       17.0                    1   \n",
       "2              33  35.19      12.0       22.0                    1   \n",
       "3              22  14.45      23.0       38.0                    1   \n",
       "4              11  16.74       6.0       17.0                    1   \n",
       "...           ...    ...       ...        ...                  ...   \n",
       "26113          25  31.79      13.0       28.0                    0   \n",
       "26114           5  15.10       9.0       19.0                    0   \n",
       "26115           4  33.60      11.0       17.0                    0   \n",
       "26116           9  13.09      17.0       31.0                    0   \n",
       "26117          33   1.40       4.0       19.0                    0   \n",
       "\n",
       "       last_fico_range_high  last_fico_range_low  application_type  tax_liens  \n",
       "0                     669.0                665.0                 0        0.0  \n",
       "1                     549.0                545.0                 0        0.0  \n",
       "2                     594.0                590.0                 0        0.0  \n",
       "3                     744.0                740.0                 0        0.0  \n",
       "4                     569.0                565.0                 0        0.0  \n",
       "...                     ...                  ...               ...        ...  \n",
       "26113                 754.0                750.0                 0        0.0  \n",
       "26114                 499.0                  0.0                 0        0.0  \n",
       "26115                 699.0                695.0                 0        0.0  \n",
       "26116                 714.0                710.0                 0        0.0  \n",
       "26117                 759.0                755.0                 0        0.0  \n",
       "\n",
       "[26118 rows x 21 columns]"
      ]
     },
     "execution_count": 5,
     "metadata": {},
     "output_type": "execute_result"
    }
   ],
   "source": [
    "data['initial_list_status']=data['initial_list_status'].replace({'w':0,'f':1})\n",
    "data"
   ]
  },
  {
   "cell_type": "code",
   "execution_count": 6,
   "id": "d862fbcb-437f-478c-ac7b-b85d0dd8b181",
   "metadata": {},
   "outputs": [
    {
     "data": {
      "text/plain": [
       "array([ 9, 18, 33, 22, 11, 34, 42, 23, 24, 14, 28,  4,  6, 44,  1, 19, 39,\n",
       "       10, 21, 13,  2, 26, 41, 29,  5, 46, 48, 37,  8, 38, 47, 36, 30, 17,\n",
       "       43, 32,  3, 25, 15,  7, 16, 31, 35, 27, 20, 45, 49,  0, 40, 12],\n",
       "      dtype=int64)"
      ]
     },
     "execution_count": 6,
     "metadata": {},
     "output_type": "execute_result"
    }
   ],
   "source": [
    "data['addr_state'].unique()"
   ]
  },
  {
   "cell_type": "code",
   "execution_count": 7,
   "id": "814918da-6290-4567-94e3-14ecbaf5ad70",
   "metadata": {},
   "outputs": [],
   "source": [
    "def onehot_encode(data,column):\n",
    "    data=data.copy()\n",
    "    dummies=pd.get_dummies(data[column],prefix=column,dtype=int)\n",
    "    data=pd.concat([data,dummies],axis=1)\n",
    "    data=data.drop(column,axis=1)\n",
    "    return data"
   ]
  },
  {
   "cell_type": "code",
   "execution_count": 8,
   "id": "d4171825-6ba1-48a9-96a1-5f51fe092799",
   "metadata": {},
   "outputs": [],
   "source": [
    "data =onehot_encode(data,'addr_state')"
   ]
  },
  {
   "cell_type": "code",
   "execution_count": 9,
   "id": "58fdfecb-51b4-48ee-a53c-c9b5c21542b9",
   "metadata": {},
   "outputs": [
    {
     "data": {
      "text/plain": [
       "array([ 9,  2,  4,  1,  7,  0,  6, 12,  8, 11,  5, 10, 13,  3],\n",
       "      dtype=int64)"
      ]
     },
     "execution_count": 9,
     "metadata": {},
     "output_type": "execute_result"
    }
   ],
   "source": [
    "data['purpose'].unique()"
   ]
  },
  {
   "cell_type": "code",
   "execution_count": 10,
   "id": "8c5e48c1-0de8-4e58-92c7-a7a6f7c82e60",
   "metadata": {},
   "outputs": [],
   "source": [
    "data=onehot_encode(data,'purpose')"
   ]
  },
  {
   "cell_type": "code",
   "execution_count": 11,
   "id": "64a6caec-8305-4705-b39a-e297500829cd",
   "metadata": {},
   "outputs": [],
   "source": [
    "data['verification_status']=data['verification_status'].replace({'Not Verified':0, 'Source Verified':1, 'Verified':2})"
   ]
  },
  {
   "cell_type": "code",
   "execution_count": 12,
   "id": "e1b9fe00-4e89-4a18-95a1-c26b39f8f0b7",
   "metadata": {},
   "outputs": [],
   "source": [
    "data['home_ownership']=data['home_ownership'].replace({'MORTGAGE':0, 'RENT':1, 'OWN':2, 'ANY':3, 'NONE':4, 'OTHER':4})"
   ]
  },
  {
   "cell_type": "code",
   "execution_count": 13,
   "id": "d78774d4-86b6-47bb-9115-1a8630c876af",
   "metadata": {},
   "outputs": [],
   "source": [
    "data['emp_length']=data['emp_length'].replace({'10+ years':10, '3 years':3, '6 years':6, '1 year':1, '7 years':7, '8 years':8,\n",
    "       '5 years':5, '2 years':2, '9 years':9, '< 1 year':0, '4 years':4})"
   ]
  },
  {
   "cell_type": "code",
   "execution_count": 14,
   "id": "df25cd63-646a-4624-bdca-abd4f799ed7d",
   "metadata": {},
   "outputs": [],
   "source": [
    "data['term']=data['term'].replace({' 36 months':0, ' 60 months':1})"
   ]
  },
  {
   "cell_type": "code",
   "execution_count": 15,
   "id": "f3255d86-a897-41d7-9016-619d8f48a638",
   "metadata": {},
   "outputs": [],
   "source": [
    "for column in data.columns:\n",
    "    if data[column].dtype=='bool':\n",
    "        data[column]=data[column].astype(int)"
   ]
  },
  {
   "cell_type": "code",
   "execution_count": 16,
   "id": "d1ee8c74-d81c-443f-92bc-3dad31571394",
   "metadata": {},
   "outputs": [
    {
     "data": {
      "text/plain": [
       "[]"
      ]
     },
     "execution_count": 16,
     "metadata": {},
     "output_type": "execute_result"
    }
   ],
   "source": [
    "[column for column in data.columns if data[column].dtype=='object']"
   ]
  },
  {
   "cell_type": "code",
   "execution_count": 17,
   "id": "260d503f-4bd1-4ecd-8455-7cd516bb9b76",
   "metadata": {},
   "outputs": [
    {
     "data": {
      "text/html": [
       "<div>\n",
       "<style scoped>\n",
       "    .dataframe tbody tr th:only-of-type {\n",
       "        vertical-align: middle;\n",
       "    }\n",
       "\n",
       "    .dataframe tbody tr th {\n",
       "        vertical-align: top;\n",
       "    }\n",
       "\n",
       "    .dataframe thead th {\n",
       "        text-align: right;\n",
       "    }\n",
       "</style>\n",
       "<table border=\"1\" class=\"dataframe\">\n",
       "  <thead>\n",
       "    <tr style=\"text-align: right;\">\n",
       "      <th></th>\n",
       "      <th>Unnamed: 0</th>\n",
       "      <th>loan_amnt</th>\n",
       "      <th>term</th>\n",
       "      <th>int_rate</th>\n",
       "      <th>installment</th>\n",
       "      <th>emp_length</th>\n",
       "      <th>home_ownership</th>\n",
       "      <th>annual_inc</th>\n",
       "      <th>verification_status</th>\n",
       "      <th>loan_status</th>\n",
       "      <th>...</th>\n",
       "      <th>purpose_11</th>\n",
       "      <th>purpose_12</th>\n",
       "      <th>purpose_13</th>\n",
       "      <th>grade_0</th>\n",
       "      <th>grade_1</th>\n",
       "      <th>grade_2</th>\n",
       "      <th>grade_3</th>\n",
       "      <th>grade_4</th>\n",
       "      <th>grade_5</th>\n",
       "      <th>grade_6</th>\n",
       "    </tr>\n",
       "  </thead>\n",
       "  <tbody>\n",
       "    <tr>\n",
       "      <th>0</th>\n",
       "      <td>0</td>\n",
       "      <td>2500.0</td>\n",
       "      <td>0</td>\n",
       "      <td>17.27</td>\n",
       "      <td>89.47</td>\n",
       "      <td>1</td>\n",
       "      <td>1</td>\n",
       "      <td>50000.0</td>\n",
       "      <td>2</td>\n",
       "      <td>1</td>\n",
       "      <td>...</td>\n",
       "      <td>0</td>\n",
       "      <td>0</td>\n",
       "      <td>0</td>\n",
       "      <td>0</td>\n",
       "      <td>0</td>\n",
       "      <td>0</td>\n",
       "      <td>1</td>\n",
       "      <td>0</td>\n",
       "      <td>0</td>\n",
       "      <td>0</td>\n",
       "    </tr>\n",
       "    <tr>\n",
       "      <th>1</th>\n",
       "      <td>1</td>\n",
       "      <td>7200.0</td>\n",
       "      <td>0</td>\n",
       "      <td>17.27</td>\n",
       "      <td>257.67</td>\n",
       "      <td>9</td>\n",
       "      <td>4</td>\n",
       "      <td>20000.0</td>\n",
       "      <td>2</td>\n",
       "      <td>0</td>\n",
       "      <td>...</td>\n",
       "      <td>0</td>\n",
       "      <td>0</td>\n",
       "      <td>0</td>\n",
       "      <td>0</td>\n",
       "      <td>0</td>\n",
       "      <td>0</td>\n",
       "      <td>1</td>\n",
       "      <td>0</td>\n",
       "      <td>0</td>\n",
       "      <td>0</td>\n",
       "    </tr>\n",
       "    <tr>\n",
       "      <th>2</th>\n",
       "      <td>2</td>\n",
       "      <td>16000.0</td>\n",
       "      <td>0</td>\n",
       "      <td>10.78</td>\n",
       "      <td>522.16</td>\n",
       "      <td>5</td>\n",
       "      <td>5</td>\n",
       "      <td>63000.0</td>\n",
       "      <td>0</td>\n",
       "      <td>0</td>\n",
       "      <td>...</td>\n",
       "      <td>0</td>\n",
       "      <td>0</td>\n",
       "      <td>0</td>\n",
       "      <td>0</td>\n",
       "      <td>1</td>\n",
       "      <td>0</td>\n",
       "      <td>0</td>\n",
       "      <td>0</td>\n",
       "      <td>0</td>\n",
       "      <td>0</td>\n",
       "    </tr>\n",
       "    <tr>\n",
       "      <th>3</th>\n",
       "      <td>3</td>\n",
       "      <td>16000.0</td>\n",
       "      <td>0</td>\n",
       "      <td>5.32</td>\n",
       "      <td>481.84</td>\n",
       "      <td>8</td>\n",
       "      <td>1</td>\n",
       "      <td>96000.0</td>\n",
       "      <td>0</td>\n",
       "      <td>1</td>\n",
       "      <td>...</td>\n",
       "      <td>0</td>\n",
       "      <td>0</td>\n",
       "      <td>0</td>\n",
       "      <td>1</td>\n",
       "      <td>0</td>\n",
       "      <td>0</td>\n",
       "      <td>0</td>\n",
       "      <td>0</td>\n",
       "      <td>0</td>\n",
       "      <td>0</td>\n",
       "    </tr>\n",
       "    <tr>\n",
       "      <th>4</th>\n",
       "      <td>4</td>\n",
       "      <td>13000.0</td>\n",
       "      <td>1</td>\n",
       "      <td>16.59</td>\n",
       "      <td>320.23</td>\n",
       "      <td>10</td>\n",
       "      <td>5</td>\n",
       "      <td>40000.0</td>\n",
       "      <td>2</td>\n",
       "      <td>0</td>\n",
       "      <td>...</td>\n",
       "      <td>0</td>\n",
       "      <td>0</td>\n",
       "      <td>0</td>\n",
       "      <td>0</td>\n",
       "      <td>0</td>\n",
       "      <td>0</td>\n",
       "      <td>1</td>\n",
       "      <td>0</td>\n",
       "      <td>0</td>\n",
       "      <td>0</td>\n",
       "    </tr>\n",
       "    <tr>\n",
       "      <th>...</th>\n",
       "      <td>...</td>\n",
       "      <td>...</td>\n",
       "      <td>...</td>\n",
       "      <td>...</td>\n",
       "      <td>...</td>\n",
       "      <td>...</td>\n",
       "      <td>...</td>\n",
       "      <td>...</td>\n",
       "      <td>...</td>\n",
       "      <td>...</td>\n",
       "      <td>...</td>\n",
       "      <td>...</td>\n",
       "      <td>...</td>\n",
       "      <td>...</td>\n",
       "      <td>...</td>\n",
       "      <td>...</td>\n",
       "      <td>...</td>\n",
       "      <td>...</td>\n",
       "      <td>...</td>\n",
       "      <td>...</td>\n",
       "      <td>...</td>\n",
       "    </tr>\n",
       "    <tr>\n",
       "      <th>26113</th>\n",
       "      <td>26113</td>\n",
       "      <td>12000.0</td>\n",
       "      <td>0</td>\n",
       "      <td>13.99</td>\n",
       "      <td>410.08</td>\n",
       "      <td>0</td>\n",
       "      <td>5</td>\n",
       "      <td>47000.0</td>\n",
       "      <td>1</td>\n",
       "      <td>1</td>\n",
       "      <td>...</td>\n",
       "      <td>0</td>\n",
       "      <td>0</td>\n",
       "      <td>0</td>\n",
       "      <td>0</td>\n",
       "      <td>0</td>\n",
       "      <td>1</td>\n",
       "      <td>0</td>\n",
       "      <td>0</td>\n",
       "      <td>0</td>\n",
       "      <td>0</td>\n",
       "    </tr>\n",
       "    <tr>\n",
       "      <th>26114</th>\n",
       "      <td>26114</td>\n",
       "      <td>25000.0</td>\n",
       "      <td>1</td>\n",
       "      <td>25.69</td>\n",
       "      <td>743.94</td>\n",
       "      <td>6</td>\n",
       "      <td>1</td>\n",
       "      <td>70000.0</td>\n",
       "      <td>2</td>\n",
       "      <td>0</td>\n",
       "      <td>...</td>\n",
       "      <td>0</td>\n",
       "      <td>0</td>\n",
       "      <td>0</td>\n",
       "      <td>0</td>\n",
       "      <td>0</td>\n",
       "      <td>0</td>\n",
       "      <td>0</td>\n",
       "      <td>0</td>\n",
       "      <td>1</td>\n",
       "      <td>0</td>\n",
       "    </tr>\n",
       "    <tr>\n",
       "      <th>26115</th>\n",
       "      <td>26115</td>\n",
       "      <td>16000.0</td>\n",
       "      <td>0</td>\n",
       "      <td>12.79</td>\n",
       "      <td>537.49</td>\n",
       "      <td>1</td>\n",
       "      <td>4</td>\n",
       "      <td>48000.0</td>\n",
       "      <td>0</td>\n",
       "      <td>1</td>\n",
       "      <td>...</td>\n",
       "      <td>0</td>\n",
       "      <td>0</td>\n",
       "      <td>0</td>\n",
       "      <td>0</td>\n",
       "      <td>0</td>\n",
       "      <td>1</td>\n",
       "      <td>0</td>\n",
       "      <td>0</td>\n",
       "      <td>0</td>\n",
       "      <td>0</td>\n",
       "    </tr>\n",
       "    <tr>\n",
       "      <th>26116</th>\n",
       "      <td>26116</td>\n",
       "      <td>35000.0</td>\n",
       "      <td>1</td>\n",
       "      <td>15.59</td>\n",
       "      <td>843.53</td>\n",
       "      <td>1</td>\n",
       "      <td>1</td>\n",
       "      <td>180000.0</td>\n",
       "      <td>2</td>\n",
       "      <td>1</td>\n",
       "      <td>...</td>\n",
       "      <td>0</td>\n",
       "      <td>0</td>\n",
       "      <td>0</td>\n",
       "      <td>0</td>\n",
       "      <td>0</td>\n",
       "      <td>1</td>\n",
       "      <td>0</td>\n",
       "      <td>0</td>\n",
       "      <td>0</td>\n",
       "      <td>0</td>\n",
       "    </tr>\n",
       "    <tr>\n",
       "      <th>26117</th>\n",
       "      <td>26117</td>\n",
       "      <td>5000.0</td>\n",
       "      <td>0</td>\n",
       "      <td>21.49</td>\n",
       "      <td>189.64</td>\n",
       "      <td>2</td>\n",
       "      <td>5</td>\n",
       "      <td>43000.0</td>\n",
       "      <td>2</td>\n",
       "      <td>1</td>\n",
       "      <td>...</td>\n",
       "      <td>0</td>\n",
       "      <td>0</td>\n",
       "      <td>0</td>\n",
       "      <td>0</td>\n",
       "      <td>0</td>\n",
       "      <td>0</td>\n",
       "      <td>1</td>\n",
       "      <td>0</td>\n",
       "      <td>0</td>\n",
       "      <td>0</td>\n",
       "    </tr>\n",
       "  </tbody>\n",
       "</table>\n",
       "<p>26118 rows × 89 columns</p>\n",
       "</div>"
      ],
      "text/plain": [
       "       Unnamed: 0  loan_amnt  term  int_rate  installment  emp_length  \\\n",
       "0               0     2500.0     0     17.27        89.47           1   \n",
       "1               1     7200.0     0     17.27       257.67           9   \n",
       "2               2    16000.0     0     10.78       522.16           5   \n",
       "3               3    16000.0     0      5.32       481.84           8   \n",
       "4               4    13000.0     1     16.59       320.23          10   \n",
       "...           ...        ...   ...       ...          ...         ...   \n",
       "26113       26113    12000.0     0     13.99       410.08           0   \n",
       "26114       26114    25000.0     1     25.69       743.94           6   \n",
       "26115       26115    16000.0     0     12.79       537.49           1   \n",
       "26116       26116    35000.0     1     15.59       843.53           1   \n",
       "26117       26117     5000.0     0     21.49       189.64           2   \n",
       "\n",
       "       home_ownership  annual_inc  verification_status  loan_status  ...  \\\n",
       "0                   1     50000.0                    2            1  ...   \n",
       "1                   4     20000.0                    2            0  ...   \n",
       "2                   5     63000.0                    0            0  ...   \n",
       "3                   1     96000.0                    0            1  ...   \n",
       "4                   5     40000.0                    2            0  ...   \n",
       "...               ...         ...                  ...          ...  ...   \n",
       "26113               5     47000.0                    1            1  ...   \n",
       "26114               1     70000.0                    2            0  ...   \n",
       "26115               4     48000.0                    0            1  ...   \n",
       "26116               1    180000.0                    2            1  ...   \n",
       "26117               5     43000.0                    2            1  ...   \n",
       "\n",
       "       purpose_11  purpose_12  purpose_13  grade_0  grade_1  grade_2  grade_3  \\\n",
       "0               0           0           0        0        0        0        1   \n",
       "1               0           0           0        0        0        0        1   \n",
       "2               0           0           0        0        1        0        0   \n",
       "3               0           0           0        1        0        0        0   \n",
       "4               0           0           0        0        0        0        1   \n",
       "...           ...         ...         ...      ...      ...      ...      ...   \n",
       "26113           0           0           0        0        0        1        0   \n",
       "26114           0           0           0        0        0        0        0   \n",
       "26115           0           0           0        0        0        1        0   \n",
       "26116           0           0           0        0        0        1        0   \n",
       "26117           0           0           0        0        0        0        1   \n",
       "\n",
       "       grade_4  grade_5  grade_6  \n",
       "0            0        0        0  \n",
       "1            0        0        0  \n",
       "2            0        0        0  \n",
       "3            0        0        0  \n",
       "4            0        0        0  \n",
       "...        ...      ...      ...  \n",
       "26113        0        0        0  \n",
       "26114        0        1        0  \n",
       "26115        0        0        0  \n",
       "26116        0        0        0  \n",
       "26117        0        0        0  \n",
       "\n",
       "[26118 rows x 89 columns]"
      ]
     },
     "execution_count": 17,
     "metadata": {},
     "output_type": "execute_result"
    }
   ],
   "source": [
    "data=onehot_encode(data,'grade')\n",
    "data"
   ]
  },
  {
   "cell_type": "code",
   "execution_count": 18,
   "id": "01796c5b-0763-4a20-a814-69a3bad7f055",
   "metadata": {},
   "outputs": [],
   "source": [
    "from sklearn.model_selection import train_test_split\n",
    "y=data['loan_status']\n",
    "x=data.drop('loan_status',axis=1)\n",
    "x_train,x_test,y_train,y_test=train_test_split(x,y,train_size=0.8,random_state=123,shuffle=True)"
   ]
  },
  {
   "cell_type": "code",
   "execution_count": 19,
   "id": "f17af33e-a0d8-4a3a-9841-a560763cf83f",
   "metadata": {},
   "outputs": [
    {
     "data": {
      "text/plain": [
       "(20894, 88)"
      ]
     },
     "execution_count": 19,
     "metadata": {},
     "output_type": "execute_result"
    }
   ],
   "source": [
    "x_train.shape"
   ]
  },
  {
   "cell_type": "code",
   "execution_count": 20,
   "id": "452c5f04-5c8b-4fc3-a8f4-9134b321e904",
   "metadata": {},
   "outputs": [
    {
     "data": {
      "text/plain": [
       "(5224, 88)"
      ]
     },
     "execution_count": 20,
     "metadata": {},
     "output_type": "execute_result"
    }
   ],
   "source": [
    "x_test.shape"
   ]
  },
  {
   "cell_type": "code",
   "execution_count": 21,
   "id": "2ead726e-cffc-4522-bd1d-19c5d3638acc",
   "metadata": {},
   "outputs": [],
   "source": [
    "scaler=StandardScaler()\n",
    "x_train = scaler.fit_transform(x_train)\n",
    "x_test = scaler.transform(x_test)"
   ]
  },
  {
   "cell_type": "code",
   "execution_count": 22,
   "id": "224ec02e-e10f-4e27-94bf-b7deadedd80d",
   "metadata": {},
   "outputs": [],
   "source": [
    "svm_rbf = SVC(kernel='rbf',probability=True,random_state=42,C=1,class_weight='balanced')"
   ]
  },
  {
   "cell_type": "code",
   "execution_count": 23,
   "id": "6a918ba2-3ea4-4ee4-80e9-e7794396d391",
   "metadata": {},
   "outputs": [],
   "source": [
    "svm_rbf = svm_rbf.fit(x_train,y_train)"
   ]
  },
  {
   "cell_type": "code",
   "execution_count": 24,
   "id": "73990bc3-e583-4ceb-8e06-417104b61fe8",
   "metadata": {},
   "outputs": [
    {
     "data": {
      "text/plain": [
       "array([1, 1, 1, ..., 1, 1, 0], dtype=int64)"
      ]
     },
     "execution_count": 24,
     "metadata": {},
     "output_type": "execute_result"
    }
   ],
   "source": [
    "y_pred = svm_rbf.predict(x_test)\n",
    "y_pred"
   ]
  },
  {
   "cell_type": "code",
   "execution_count": 25,
   "id": "aa24d4cb-22b5-448d-80ee-ac1af1eaea02",
   "metadata": {},
   "outputs": [
    {
     "name": "stdout",
     "output_type": "stream",
     "text": [
      "Accuracy: 86.93%\n",
      "Classification Report:\n",
      "               precision    recall  f1-score   support\n",
      "\n",
      "           0       0.65      0.83      0.73      1099\n",
      "           1       0.95      0.88      0.91      4125\n",
      "\n",
      "    accuracy                           0.87      5224\n",
      "   macro avg       0.80      0.85      0.82      5224\n",
      "weighted avg       0.89      0.87      0.87      5224\n",
      "\n"
     ]
    }
   ],
   "source": [
    "accuracy = accuracy_score(y_test, y_pred)\n",
    "print(f\"Accuracy: {accuracy * 100:.2f}%\")\n",
    "print(\"Classification Report:\\n\", classification_report(y_test, y_pred))"
   ]
  },
  {
   "cell_type": "code",
   "execution_count": 26,
   "id": "5bcc97a5-d75c-4a33-96d9-978012db218f",
   "metadata": {},
   "outputs": [
    {
     "data": {
      "text/plain": [
       "array([0.99687358, 0.93847232, 0.97210449, ..., 0.86652852, 0.89463605,\n",
       "       0.08436686])"
      ]
     },
     "execution_count": 26,
     "metadata": {},
     "output_type": "execute_result"
    }
   ],
   "source": [
    "y_pred1 = svm_rbf.predict_proba(x_test)[:, 1]\n",
    "y_pred1"
   ]
  },
  {
   "cell_type": "code",
   "execution_count": 27,
   "id": "a77cbcd9-0120-4ab2-b4ed-5994fc85485d",
   "metadata": {},
   "outputs": [
    {
     "data": {
      "image/png": "[encoded data removed]",
      "text/plain": [
       "<Figure size 640x480 with 1 Axes>"
      ]
     },
     "metadata": {},
     "output_type": "display_data"
    }
   ],
   "source": [
    "fpr, tpr, _ = metrics.roc_curve(y_test, y_pred1)\n",
    "plt.plot(fpr, tpr, color='purple', label='SVM_ROC')\n",
    "plt.plot([0, 1], [0, 1], color='black', linestyle='--')\n",
    "plt.xlabel('False Positive Rate')\n",
    "plt.ylabel('True Positive Rate')\n",
    "plt.title('ROC Crurve')\n",
    "plt.legend()\n",
    "plt.show()"
   ]
  },
  {
   "cell_type": "code",
   "execution_count": 28,
   "id": "ca16ea63-0558-4b80-a7ba-fdb9bec96f0d",
   "metadata": {},
   "outputs": [],
   "source": [
    "param_grid = {\n",
    "    'svc__C': [0.1,1,5,10,15,20,25,40,35,40,45,50,55,60,65,70,75,80,85,90,95,100],        \n",
    "    'svc__gamma': [1, 0.1, 0.01, 0.001],\n",
    "    'svc__kernel': ['rbf']     \n",
    "}\n",
    "\n",
    "pipeline = make_pipeline(StandardScaler(), SVC(probability=True))"
   ]
  },
  {
   "cell_type": "code",
   "execution_count": 31,
   "id": "d9729c6c-6e25-4224-b641-c41e0514954e",
   "metadata": {},
   "outputs": [],
   "source": [
    "grid_search = GridSearchCV(pipeline, param_grid, cv=5, scoring='accuracy',n_jobs=-1)"
   ]
  },
  {
   "cell_type": "code",
   "execution_count": null,
   "id": "e0b4d19b-bb75-451b-bd4a-28d59bae4d63",
   "metadata": {},
   "outputs": [],
   "source": [
    "grid_search = grid_search.fit(x_train, y_train)"
   ]
  },
  {
   "cell_type": "code",
   "execution_count": 30,
   "id": "d002907f-11b5-45fa-bc95-396fc663f208",
   "metadata": {},
   "outputs": [
    {
     "name": "stdout",
     "output_type": "stream",
     "text": [
      "Best parameters:  {'svc__C': 5, 'svc__gamma': 0.001, 'svc__kernel': 'rbf'}\n",
      "Best cross-validation accuracy: 0.89\n"
     ]
    }
   ],
   "source": [
    "print(\"Best parameters: \", grid_search.best_params_)\n",
    "print(\"Best cross-validation accuracy: {:.2f}\".format(grid_search.best_score_))"
   ]
  },
  {
   "cell_type": "code",
   "execution_count": 31,
   "id": "3dab8ddc-5bed-4d23-a674-3f08568c77a7",
   "metadata": {},
   "outputs": [],
   "source": [
    "svm_rbf_best_param = SVC(kernel='rbf',gamma=0.001,C=5,probability=True)\n",
    "svm_rbf_best_param = svm_rbf_best_param.fit(x_train,y_train)"
   ]
  },
  {
   "cell_type": "code",
   "execution_count": 32,
   "id": "0af37a6c-834a-4a4e-b725-07496096594a",
   "metadata": {},
   "outputs": [
    {
     "data": {
      "text/plain": [
       "array([1, 1, 1, ..., 1, 1, 0], dtype=int64)"
      ]
     },
     "execution_count": 32,
     "metadata": {},
     "output_type": "execute_result"
    }
   ],
   "source": [
    "y_pred2 = svm_rbf_best_param.predict(x_test)\n",
    "y_pred2"
   ]
  },
  {
   "cell_type": "code",
   "execution_count": 33,
   "id": "5d8bd5bd-c6cd-4dfc-9f53-f33b1a7a1eba",
   "metadata": {},
   "outputs": [
    {
     "name": "stdout",
     "output_type": "stream",
     "text": [
      "Accuracy: 89.51%\n",
      "Classification Report:\n",
      "               precision    recall  f1-score   support\n",
      "\n",
      "           0       0.78      0.71      0.74      1099\n",
      "           1       0.92      0.95      0.93      4125\n",
      "\n",
      "    accuracy                           0.90      5224\n",
      "   macro avg       0.85      0.83      0.84      5224\n",
      "weighted avg       0.89      0.90      0.89      5224\n",
      "\n"
     ]
    }
   ],
   "source": [
    "accuracy = accuracy_score(y_test, y_pred2)\n",
    "print(f\"Accuracy: {accuracy * 100:.2f}%\")\n",
    "print(\"Classification Report:\\n\", classification_report(y_test, y_pred2))"
   ]
  },
  {
   "cell_type": "code",
   "execution_count": 34,
   "id": "f057cf8d-a0ac-4bd6-8330-68b4036782e6",
   "metadata": {},
   "outputs": [
    {
     "data": {
      "text/plain": [
       "array([0.99541227, 0.96525021, 0.97387853, ..., 0.88741415, 0.94277145,\n",
       "       0.01529227])"
      ]
     },
     "execution_count": 34,
     "metadata": {},
     "output_type": "execute_result"
    }
   ],
   "source": [
    "y_pred3 = svm_rbf_best_param.predict_proba(x_test)[:, 1]\n",
    "y_pred3"
   ]
  },
  {
   "cell_type": "code",
   "execution_count": 35,
   "id": "380f87f1-67d7-4928-9066-c149cb400c26",
   "metadata": {},
   "outputs": [
    {
     "data": {
      "image/png": "[encoded data removed]",
      "text/plain": [
       "<Figure size 640x480 with 1 Axes>"
      ]
     },
     "metadata": {},
     "output_type": "display_data"
    }
   ],
   "source": [
    "fpr1, tpr1, _ = metrics.roc_curve(y_test, y_pred3)\n",
    "plt.plot(fpr1, tpr1, color='green', label='SVM_ROC_GRID_ACC')\n",
    "plt.plot([0, 1], [0, 1], color='black', linestyle='--')\n",
    "plt.xlabel('False Positive Rate')\n",
    "plt.ylabel('True Positive Rate')\n",
    "plt.title('ROC Crurve')\n",
    "plt.legend()\n",
    "plt.show()"
   ]
  },
  {
   "cell_type": "code",
   "execution_count": null,
   "id": "a07ca9f4-561f-4a9a-b196-d27ff5486d4f",
   "metadata": {},
   "outputs": [],
   "source": [
    "fpr, tpr, _ = metrics.roc_curve(y_test, y_pred1)\n",
    "fpr1, tpr1, _ = metrics.roc_curve(y_test, y_pred3)\n",
    "plt.plot(fpr, tpr, color='purple', label='SVM_ROC_GRID_AUC')\n",
    "plt.plot(fpr1, tpr1, color='green', label='SVM_ROC_GRID_AUC')\n",
    "plt.plot([0,1], [0,1], color='black', linestyle='--')\n",
    "plt.xlabel('False Positive Rate')\n",
    "plt.ylabel('True Positive Rate')\n",
    "plt.title('ROC Crurve')\n",
    "plt.legend()\n",
    "plt.show()"
   ]
  },
  {
   "cell_type": "code",
   "execution_count": 26,
   "id": "ffbbe266-10ec-48bf-95db-a00ca565033f",
   "metadata": {},
   "outputs": [],
   "source": [
    "grid_search1 = GridSearchCV(pipeline, param_grid, cv=5, scoring='roc_auc')"
   ]
  },
  {
   "cell_type": "code",
   "execution_count": 27,
   "id": "a8849aa0-43f6-4681-9a94-91bdb442bdbc",
   "metadata": {},
   "outputs": [],
   "source": [
    "grid_search1 = grid_search1.fit(x_train, y_train)"
   ]
  },
  {
   "cell_type": "code",
   "execution_count": 28,
   "id": "2a8f16d5-79b2-468b-a9e0-df832672ceb9",
   "metadata": {},
   "outputs": [
    {
     "name": "stdout",
     "output_type": "stream",
     "text": [
      "Best parameters:  {'svc__C': 5, 'svc__gamma': 0.001, 'svc__kernel': 'rbf'}\n",
      "Best cross-validation accuracy: 0.94\n"
     ]
    }
   ],
   "source": [
    "print(\"Best parameters: \", grid_search1.best_params_)\n",
    "print(\"Best cross-validation accuracy: {:.2f}\".format(grid_search1.best_score_))"
   ]
  },
  {
   "cell_type": "code",
   "execution_count": null,
   "id": "8f1c158e-e022-4691-befd-ad15103248a7",
   "metadata": {},
   "outputs": [],
   "source": [
    "y_pred4 = grid_search1.predict(x_test)\n",
    "y_pred4"
   ]
  },
  {
   "cell_type": "code",
   "execution_count": null,
   "id": "111342c5-5638-4456-9ba2-04c05f4690e2",
   "metadata": {},
   "outputs": [],
   "source": [
    "accuracy = accuracy_score(y_test, y_pred2)\n",
    "print(f\"Accuracy: {accuracy * 100:.2f}%\")\n",
    "print(\"Classification Report:\\n\", classification_report(y_test, y_pred4)"
   ]
  },
  {
   "cell_type": "code",
   "execution_count": 32,
   "id": "c718a560-aa12-4fd6-bb9d-e5143bd823f1",
   "metadata": {},
   "outputs": [
    {
     "data": {
      "text/plain": [
       "array([0.99540339, 0.96521827, 0.97385069, ..., 0.88737946, 0.94273364,\n",
       "       0.01533284])"
      ]
     },
     "execution_count": 32,
     "metadata": {},
     "output_type": "execute_result"
    }
   ],
   "source": [
    "y_pred5 = grid_search1.predict_proba(x_test)[:, 1]\n",
    "y_pred5"
   ]
  },
  {
   "cell_type": "code",
   "execution_count": 37,
   "id": "96491559-2cda-4dc0-b0fb-6d568e7dbc61",
   "metadata": {},
   "outputs": [
    {
     "data": {
      "image/png": "[encoded data removed]",
      "text/plain": [
       "<Figure size 640x480 with 1 Axes>"
      ]
     },
     "metadata": {},
     "output_type": "display_data"
    }
   ],
   "source": [
    "fpr2, tpr2, _ = metrics.roc_curve(y_test, y_pred5)\n",
    "plt.plot(fpr2, tpr2, color='blue', label='SVM_ROC_GRID_AUC')\n",
    "plt.plot([0,1], [0,1], color='black', linestyle='--')\n",
    "plt.xlabel('False Positive Rate')\n",
    "plt.ylabel('True Positive Rate')\n",
    "plt.title('ROC Crurve')\n",
    "plt.legend()\n",
    "plt.show()"
   ]
  },
  {
   "cell_type": "code",
   "execution_count": null,
   "id": "943c9812-5aec-4345-9339-02a86ef49536",
   "metadata": {},
   "outputs": [],
   "source": [
    "fpr, tpr, _ = metrics.roc_curve(y_test, y_pred1)\n",
    "fpr1, tpr1, _ = metrics.roc_curve(y_test, y_pred3)\n",
    "fpr2, tpr2, _ = metrics.roc_curve(y_test, y_pred5)\n",
    "plt.plot(fpr, tpr, color='purple', label='SVM_ROC_GRID_AUC')\n",
    "plt.plot(fpr1, tpr1, color='green', label='SVM_ROC_GRID_AUC')\n",
    "plt.plot(fpr2, tpr2, color='blue', label='SVM_ROC_GRID_AUC')\n",
    "plt.plot([0,1], [0,1], color='black', linestyle='--')\n",
    "plt.xlabel('False Positive Rate')\n",
    "plt.ylabel('True Positive Rate')\n",
    "plt.title('ROC Crurve')\n",
    "plt.legend()\n",
    "plt.show()"
   ]
  }
 ],
 "metadata": {
  "kernelspec": {
   "display_name": "Python 3 (ipykernel)",
   "language": "python",
   "name": "python3"
  },
  "language_info": {
   "codemirror_mode": {
    "name": "ipython",
    "version": 3
   },
   "file_extension": ".py",
   "mimetype": "text/x-python",
   "name": "python",
   "nbconvert_exporter": "python",
   "pygments_lexer": "ipython3",
   "version": "3.12.4"
  }
 },
 "nbformat": 4,
 "nbformat_minor": 5
}
